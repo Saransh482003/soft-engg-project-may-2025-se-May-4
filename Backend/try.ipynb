{
 "cells": [
  {
   "cell_type": "code",
   "execution_count": 13,
   "id": "933ea07c",
   "metadata": {},
   "outputs": [],
   "source": [
    "import chatbot\n",
    "from pprint import pprint"
   ]
  },
  {
   "cell_type": "code",
   "execution_count": 24,
   "id": "1d44dc14",
   "metadata": {},
   "outputs": [],
   "source": [
    "respo = chatbot.get_chatbot_response(\"I have hernia. Suggest me some medicines to take.\")"
   ]
  },
  {
   "cell_type": "code",
   "execution_count": 25,
   "id": "ecfdd518",
   "metadata": {},
   "outputs": [
    {
     "data": {
      "text/plain": [
       "1461"
      ]
     },
     "execution_count": 25,
     "metadata": {},
     "output_type": "execute_result"
    }
   ],
   "source": [
    "open(\"chatbot-response.md\", \"w\", encoding=\"utf-8\").write(respo)"
   ]
  },
  {
   "cell_type": "code",
   "execution_count": null,
   "id": "61571f0d",
   "metadata": {},
   "outputs": [],
   "source": []
  }
 ],
 "metadata": {
  "kernelspec": {
   "display_name": "env",
   "language": "python",
   "name": "python3"
  },
  "language_info": {
   "codemirror_mode": {
    "name": "ipython",
    "version": 3
   },
   "file_extension": ".py",
   "mimetype": "text/x-python",
   "name": "python",
   "nbconvert_exporter": "python",
   "pygments_lexer": "ipython3",
   "version": "3.11.4"
  }
 },
 "nbformat": 4,
 "nbformat_minor": 5
}
